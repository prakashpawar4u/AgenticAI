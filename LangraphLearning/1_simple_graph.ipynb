{
 "cells": [
  {
   "cell_type": "code",
   "execution_count": 1,
   "id": "initial_id",
   "metadata": {
    "ExecuteTime": {
     "end_time": "2025-06-20T15:25:09.823816Z",
     "start_time": "2025-06-20T15:25:09.799525Z"
    },
    "collapsed": true
   },
   "outputs": [],
   "source": [
    "from typing import TypedDict\n",
    "\n",
    "class PortfolioState(TypedDict):\n",
    "    amount_usd: float\n",
    "    total_usd: float\n",
    "    total_inr: float"
   ]
  },
  {
   "cell_type": "code",
   "execution_count": 2,
   "id": "fb6c068a9692d49",
   "metadata": {
    "ExecuteTime": {
     "end_time": "2025-06-20T15:28:00.175357Z",
     "start_time": "2025-06-20T15:28:00.145584Z"
    }
   },
   "outputs": [],
   "source": [
    "def calc_total(state: PortfolioState) -> PortfolioState:\n",
    "    state['total_usd'] = state['amount_usd'] * 1.08\n",
    "    return state\n",
    "\n",
    "def convert_to_inr(state: PortfolioState) -> PortfolioState:\n",
    "    state['total_inr'] = state['total_usd'] * 85\n",
    "    return state"
   ]
  },
  {
   "cell_type": "code",
   "execution_count": 4,
   "id": "fe6ef5ec34adff8e",
   "metadata": {
    "ExecuteTime": {
     "end_time": "2025-06-20T15:31:26.092778Z",
     "start_time": "2025-06-20T15:31:22.442966Z"
    }
   },
   "outputs": [],
   "source": [
    "from langgraph.graph import StateGraph, START, END\n",
    "\n",
    "builder = StateGraph(PortfolioState)\n",
    "\n",
    "builder.add_node(\"calc_total_node\", calc_total)\n",
    "builder.add_node(\"convert_to_inr_node\", convert_to_inr)\n",
    "\n",
    "builder.add_edge(START, \"calc_total_node\")\n",
    "builder.add_edge(\"calc_total_node\", \"convert_to_inr_node\")\n",
    "builder.add_edge(\"convert_to_inr_node\", END)\n",
    "\n",
    "graph = builder.compile()"
   ]
  },
  {
   "cell_type": "code",
   "execution_count": 5,
   "id": "cd3f4e361799482a",
   "metadata": {
    "ExecuteTime": {
     "end_time": "2025-06-20T15:33:17.863273Z",
     "start_time": "2025-06-20T15:33:17.775568Z"
    }
   },
   "outputs": [
    {
     "data": {
      "image/png": "[encoded data removed]",
      "text/plain": [
       "<IPython.core.display.Image object>"
      ]
     },
     "metadata": {},
     "output_type": "display_data"
    }
   ],
   "source": [
    "from IPython.display import Image, display\n",
    "\n",
    "display(Image(graph.get_graph().draw_mermaid_png()))"
   ]
  },
  {
   "cell_type": "code",
   "execution_count": 6,
   "id": "e4ea9083e897378b",
   "metadata": {
    "ExecuteTime": {
     "end_time": "2025-06-20T15:33:39.454466Z",
     "start_time": "2025-06-20T15:33:39.395404Z"
    }
   },
   "outputs": [
    {
     "data": {
      "text/plain": [
       "{'amount_usd': 100000, 'total_usd': 108000.0, 'total_inr': 9180000.0}"
      ]
     },
     "execution_count": 6,
     "metadata": {},
     "output_type": "execute_result"
    }
   ],
   "source": [
    "graph.invoke({\"amount_usd\": 100000})"
   ]
  },
  {
   "cell_type": "code",
   "execution_count": 7,
   "id": "d5e985b3",
   "metadata": {},
   "outputs": [
    {
     "data": {
      "text/plain": [
       "{'amount_usd': 50000, 'total_usd': 54000.0, 'total_inr': 4590000.0}"
      ]
     },
     "execution_count": 7,
     "metadata": {},
     "output_type": "execute_result"
    }
   ],
   "source": [
    "graph.invoke({\"amount_usd\": 50000})"
   ]
  },
  {
   "cell_type": "code",
   "execution_count": null,
   "id": "a148a9f4",
   "metadata": {},
   "outputs": [],
   "source": []
  }
 ],
 "metadata": {
  "kernelspec": {
   "display_name": "llm_env",
   "language": "python",
   "name": "python3"
  },
  "language_info": {
   "codemirror_mode": {
    "name": "ipython",
    "version": 3
   },
   "file_extension": ".py",
   "mimetype": "text/x-python",
   "name": "python",
   "nbconvert_exporter": "python",
   "pygments_lexer": "ipython3",
   "version": "3.11.13"
  }
 },
 "nbformat": 4,
 "nbformat_minor": 5
}
